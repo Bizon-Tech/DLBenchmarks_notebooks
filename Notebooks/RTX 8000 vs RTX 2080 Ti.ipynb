{
 "cells": [
  {
   "cell_type": "markdown",
   "metadata": {},
   "source": [
    "# Benchmark test ( RTX 8000 vs RTX 2080 Ti ) \n",
    "\n",
    "## Resnet50 parameters: \n",
    "\n",
    "## * Batch size 64,128,256 \n",
    "## * 100 iterations \n",
    "\n",
    "### -----------------------------------------\n",
    "\n",
    "## Results= Image/second = Higher is better "
   ]
  },
  {
   "cell_type": "code",
   "execution_count": 2,
   "metadata": {},
   "outputs": [
    {
     "name": "stdout",
     "output_type": "stream",
     "text": [
      "/workspace/work/benchmarks/DLBenchmarks_notebooks/benchmarks/resnet50/scripts/tf_cnn_benchmarks\n"
     ]
    }
   ],
   "source": [
    "## Navigating to the Benchmark Folder \n",
    "%cd /workspace/work/benchmarks/DLBenchmarks_notebooks/benchmarks/resnet50/scripts/tf_cnn_benchmarks"
   ]
  },
  {
   "cell_type": "code",
   "execution_count": 3,
   "metadata": {},
   "outputs": [
    {
     "name": "stdout",
     "output_type": "stream",
     "text": [
      "README.md\t\t\t\t  flags.py\n",
      "all_reduce_benchmark.py\t\t\t  leading_indicators_test.py\n",
      "all_reduce_benchmark_test.py\t\t  mlperf.py\n",
      "allreduce.py\t\t\t\t  mlperf_test.py\n",
      "allreduce_test.py\t\t\t  models\n",
      "batch_allreduce.py\t\t\t  platforms\n",
      "benchmark_cnn.py\t\t\t  preprocessing.py\n",
      "benchmark_cnn_distributed_test.py\t  run_tests.py\n",
      "benchmark_cnn_distributed_test_runner.py  ssd_constants.py\n",
      "benchmark_cnn_test.py\t\t\t  ssd_dataloader.py\n",
      "cnn_util.py\t\t\t\t  test_data\n",
      "cnn_util_test.py\t\t\t  test_util.py\n",
      "coco_metric.py\t\t\t\t  tf_cnn_benchmarks.py\n",
      "constants.py\t\t\t\t  variable_mgr.py\n",
      "convnet_builder.py\t\t\t  variable_mgr_util.py\n",
      "datasets.py\t\t\t\t  variable_mgr_util_test.py\n"
     ]
    }
   ],
   "source": [
    "## Check you are in the right folder \n",
    "!ls"
   ]
  },
  {
   "cell_type": "markdown",
   "metadata": {},
   "source": [
    "## ==== RTX 8000 ===== "
   ]
  },
  {
   "cell_type": "code",
   "execution_count": 4,
   "metadata": {},
   "outputs": [
    {
     "name": "stdout",
     "output_type": "stream",
     "text": [
      "WARNING: Logging before flag parsing goes to stderr.\n",
      "W0122 18:51:20.539972 140357620926208 deprecation.py:323] From /usr/local/lib/python3.5/dist-packages/tensorflow/python/compat/compat.py:175: disable_resource_variables (from tensorflow.python.ops.variable_scope) is deprecated and will be removed in a future version.\n",
      "Instructions for updating:\n",
      "non-resource variables are not supported in the long term\n",
      "2020-01-22 18:51:20.560043: I tensorflow/core/platform/profile_utils/cpu_utils.cc:94] CPU Frequency: 3799800000 Hz\n",
      "2020-01-22 18:51:20.560857: I tensorflow/compiler/xla/service/service.cc:161] XLA service 0x5720e90 executing computations on platform Host. Devices:\n",
      "2020-01-22 18:51:20.560931: I tensorflow/compiler/xla/service/service.cc:168]   StreamExecutor device (0): <undefined>, <undefined>\n",
      "2020-01-22 18:51:20.673577: I tensorflow/stream_executor/cuda/cuda_gpu_executor.cc:998] successful NUMA node read from SysFS had negative value (-1), but there must be at least one NUMA node, so returning NUMA node zero\n",
      "2020-01-22 18:51:20.675470: I tensorflow/compiler/xla/service/service.cc:161] XLA service 0x573ff30 executing computations on platform CUDA. Devices:\n",
      "2020-01-22 18:51:20.675533: I tensorflow/compiler/xla/service/service.cc:168]   StreamExecutor device (0): Quadro RTX 8000, Compute Capability 7.5\n",
      "2020-01-22 18:51:20.675784: I tensorflow/core/common_runtime/gpu/gpu_device.cc:1433] Found device 0 with properties: \n",
      "name: Quadro RTX 8000 major: 7 minor: 5 memoryClockRate(GHz): 1.77\n",
      "pciBusID: 0000:04:00.0\n",
      "totalMemory: 47.46GiB freeMemory: 47.29GiB\n",
      "2020-01-22 18:51:20.675843: I tensorflow/core/common_runtime/gpu/gpu_device.cc:1512] Adding visible gpu devices: 0\n",
      "2020-01-22 18:51:20.947058: I tensorflow/core/common_runtime/gpu/gpu_device.cc:984] Device interconnect StreamExecutor with strength 1 edge matrix:\n",
      "2020-01-22 18:51:20.947125: I tensorflow/core/common_runtime/gpu/gpu_device.cc:990]      0 \n",
      "2020-01-22 18:51:20.947138: I tensorflow/core/common_runtime/gpu/gpu_device.cc:1003] 0:   N \n",
      "2020-01-22 18:51:20.947262: I tensorflow/core/common_runtime/gpu/gpu_device.cc:1115] Created TensorFlow device (/job:localhost/replica:0/task:0/device:GPU:0 with 45922 MB memory) -> physical GPU (device: 0, name: Quadro RTX 8000, pci bus id: 0000:04:00.0, compute capability: 7.5)\n",
      "TensorFlow:  1.13\n",
      "Model:       resnet50\n",
      "Dataset:     imagenet (synthetic)\n",
      "Mode:        training\n",
      "SingleSess:  False\n",
      "Batch size:  64 global\n",
      "             64 per device\n",
      "Num batches: 100\n",
      "Num epochs:  0.00\n",
      "Devices:     ['/gpu:0']\n",
      "NUMA bind:   False\n",
      "Data format: NCHW\n",
      "Optimizer:   sgd\n",
      "Variables:   parameter_server\n",
      "==========\n",
      "Generating training model\n",
      "W0122 18:51:20.953163 140357620926208 deprecation.py:323] From /usr/local/lib/python3.5/dist-packages/tensorflow/python/framework/op_def_library.py:263: colocate_with (from tensorflow.python.framework.ops) is deprecated and will be removed in a future version.\n",
      "Instructions for updating:\n",
      "Colocations handled automatically by placer.\n",
      "W0122 18:51:20.964121 140357620926208 deprecation.py:323] From /workspace/work/benchmarks/DLBenchmarks_notebooks/benchmarks/resnet50/scripts/tf_cnn_benchmarks/convnet_builder.py:134: conv2d (from tensorflow.python.layers.convolutional) is deprecated and will be removed in a future version.\n",
      "Instructions for updating:\n",
      "Use keras.layers.conv2d instead.\n",
      "W0122 18:51:20.991323 140357620926208 deprecation.py:323] From /workspace/work/benchmarks/DLBenchmarks_notebooks/benchmarks/resnet50/scripts/tf_cnn_benchmarks/convnet_builder.py:266: max_pooling2d (from tensorflow.python.layers.pooling) is deprecated and will be removed in a future version.\n",
      "Instructions for updating:\n",
      "Use keras.layers.max_pooling2d instead.\n",
      "W0122 18:51:22.503147 140357620926208 deprecation.py:323] From /usr/local/lib/python3.5/dist-packages/tensorflow/python/ops/losses/losses_impl.py:209: to_float (from tensorflow.python.ops.math_ops) is deprecated and will be removed in a future version.\n",
      "Instructions for updating:\n",
      "Use tf.cast instead.\n",
      "W0122 18:51:22.604607 140357620926208 deprecation.py:323] From /usr/local/lib/python3.5/dist-packages/tensorflow/python/ops/math_ops.py:3066: to_int32 (from tensorflow.python.ops.math_ops) is deprecated and will be removed in a future version.\n",
      "Instructions for updating:\n",
      "Use tf.cast instead.\n",
      "Initializing graph\n",
      "W0122 18:51:23.355446 140357620926208 deprecation.py:323] From /workspace/work/benchmarks/DLBenchmarks_notebooks/benchmarks/resnet50/scripts/tf_cnn_benchmarks/benchmark_cnn.py:2267: Supervisor.__init__ (from tensorflow.python.training.supervisor) is deprecated and will be removed in a future version.\n",
      "Instructions for updating:\n",
      "Please switch to tf.train.MonitoredTrainingSession\n",
      "2020-01-22 18:51:23.708582: I tensorflow/core/common_runtime/gpu/gpu_device.cc:1512] Adding visible gpu devices: 0\n",
      "2020-01-22 18:51:23.708651: I tensorflow/core/common_runtime/gpu/gpu_device.cc:984] Device interconnect StreamExecutor with strength 1 edge matrix:\n",
      "2020-01-22 18:51:23.708664: I tensorflow/core/common_runtime/gpu/gpu_device.cc:990]      0 \n",
      "2020-01-22 18:51:23.708673: I tensorflow/core/common_runtime/gpu/gpu_device.cc:1003] 0:   N \n",
      "2020-01-22 18:51:23.708751: I tensorflow/core/common_runtime/gpu/gpu_device.cc:1115] Created TensorFlow device (/job:localhost/replica:0/task:0/device:GPU:0 with 45922 MB memory) -> physical GPU (device: 0, name: Quadro RTX 8000, pci bus id: 0000:04:00.0, compute capability: 7.5)\n",
      "I0122 18:51:24.505994 140357620926208 session_manager.py:491] Running local_init_op.\n",
      "I0122 18:51:24.551770 140357620926208 session_manager.py:493] Done running local_init_op.\n",
      "Running warm up\n",
      "2020-01-22 18:51:25.545102: I tensorflow/stream_executor/dso_loader.cc:153] successfully opened CUDA library libcublas.so.10 locally\n",
      "Done warm up\n",
      "Step\tImg/sec\ttotal_loss\n",
      "1\timages/sec: 323.9 +/- 0.0 (jitter = 0.0)\t8.220\n",
      "10\timages/sec: 325.0 +/- 0.4 (jitter = 0.9)\t7.880\n",
      "20\timages/sec: 324.6 +/- 0.3 (jitter = 0.8)\t7.910\n",
      "30\timages/sec: 324.2 +/- 0.2 (jitter = 1.0)\t7.820\n",
      "40\timages/sec: 324.1 +/- 0.2 (jitter = 1.1)\t8.004\n",
      "50\timages/sec: 324.0 +/- 0.2 (jitter = 0.9)\t7.770\n",
      "60\timages/sec: 323.8 +/- 0.2 (jitter = 1.0)\t8.114\n",
      "70\timages/sec: 323.8 +/- 0.1 (jitter = 1.0)\t7.818\n",
      "80\timages/sec: 323.7 +/- 0.1 (jitter = 1.0)\t7.976\n",
      "90\timages/sec: 323.5 +/- 0.1 (jitter = 1.0)\t8.102\n",
      "100\timages/sec: 323.3 +/- 0.1 (jitter = 1.2)\t8.033\n",
      "----------------------------------------------------------------\n",
      "total images/sec: 323.21\n",
      "----------------------------------------------------------------\n"
     ]
    }
   ],
   "source": [
    "## Running the benchmark with batch size = 64 \n",
    "!python tf_cnn_benchmarks.py --num_gpus=1 --batch_size=64 --model=resnet50 --variable_update=parameter_server"
   ]
  },
  {
   "cell_type": "code",
   "execution_count": 15,
   "metadata": {},
   "outputs": [
    {
     "name": "stdout",
     "output_type": "stream",
     "text": [
      "WARNING: Logging before flag parsing goes to stderr.\n",
      "W0122 15:18:38.737659 140093136992000 deprecation.py:323] From /usr/local/lib/python3.5/dist-packages/tensorflow/python/compat/compat.py:175: disable_resource_variables (from tensorflow.python.ops.variable_scope) is deprecated and will be removed in a future version.\n",
      "Instructions for updating:\n",
      "non-resource variables are not supported in the long term\n",
      "2020-01-22 15:18:38.746547: I tensorflow/core/platform/profile_utils/cpu_utils.cc:94] CPU Frequency: 3799800000 Hz\n",
      "2020-01-22 15:18:38.747800: I tensorflow/compiler/xla/service/service.cc:161] XLA service 0x5f30de0 executing computations on platform Host. Devices:\n",
      "2020-01-22 15:18:38.747871: I tensorflow/compiler/xla/service/service.cc:168]   StreamExecutor device (0): <undefined>, <undefined>\n",
      "2020-01-22 15:18:38.891540: I tensorflow/stream_executor/cuda/cuda_gpu_executor.cc:998] successful NUMA node read from SysFS had negative value (-1), but there must be at least one NUMA node, so returning NUMA node zero\n",
      "2020-01-22 15:18:38.893394: I tensorflow/compiler/xla/service/service.cc:161] XLA service 0x5f4fe80 executing computations on platform CUDA. Devices:\n",
      "2020-01-22 15:18:38.893454: I tensorflow/compiler/xla/service/service.cc:168]   StreamExecutor device (0): Quadro RTX 8000, Compute Capability 7.5\n",
      "2020-01-22 15:18:38.893675: I tensorflow/core/common_runtime/gpu/gpu_device.cc:1433] Found device 0 with properties: \n",
      "name: Quadro RTX 8000 major: 7 minor: 5 memoryClockRate(GHz): 1.77\n",
      "pciBusID: 0000:04:00.0\n",
      "totalMemory: 47.46GiB freeMemory: 47.29GiB\n",
      "2020-01-22 15:18:38.893735: I tensorflow/core/common_runtime/gpu/gpu_device.cc:1512] Adding visible gpu devices: 0\n",
      "2020-01-22 15:18:39.144995: I tensorflow/core/common_runtime/gpu/gpu_device.cc:984] Device interconnect StreamExecutor with strength 1 edge matrix:\n",
      "2020-01-22 15:18:39.145063: I tensorflow/core/common_runtime/gpu/gpu_device.cc:990]      0 \n",
      "2020-01-22 15:18:39.145080: I tensorflow/core/common_runtime/gpu/gpu_device.cc:1003] 0:   N \n",
      "2020-01-22 15:18:39.145197: I tensorflow/core/common_runtime/gpu/gpu_device.cc:1115] Created TensorFlow device (/job:localhost/replica:0/task:0/device:GPU:0 with 45922 MB memory) -> physical GPU (device: 0, name: Quadro RTX 8000, pci bus id: 0000:04:00.0, compute capability: 7.5)\n",
      "TensorFlow:  1.13\n",
      "Model:       resnet50\n",
      "Dataset:     imagenet (synthetic)\n",
      "Mode:        training\n",
      "SingleSess:  False\n",
      "Batch size:  128 global\n",
      "             128 per device\n",
      "Num batches: 100\n",
      "Num epochs:  0.01\n",
      "Devices:     ['/gpu:0']\n",
      "NUMA bind:   False\n",
      "Data format: NCHW\n",
      "Optimizer:   sgd\n",
      "Variables:   parameter_server\n",
      "==========\n",
      "Generating training model\n",
      "W0122 15:18:39.151529 140093136992000 deprecation.py:323] From /usr/local/lib/python3.5/dist-packages/tensorflow/python/framework/op_def_library.py:263: colocate_with (from tensorflow.python.framework.ops) is deprecated and will be removed in a future version.\n",
      "Instructions for updating:\n",
      "Colocations handled automatically by placer.\n",
      "W0122 15:18:39.162637 140093136992000 deprecation.py:323] From /workspace/work/benchmarks/scripts/tf_cnn_benchmarks/convnet_builder.py:134: conv2d (from tensorflow.python.layers.convolutional) is deprecated and will be removed in a future version.\n",
      "Instructions for updating:\n",
      "Use keras.layers.conv2d instead.\n",
      "W0122 15:18:39.190056 140093136992000 deprecation.py:323] From /workspace/work/benchmarks/scripts/tf_cnn_benchmarks/convnet_builder.py:266: max_pooling2d (from tensorflow.python.layers.pooling) is deprecated and will be removed in a future version.\n",
      "Instructions for updating:\n",
      "Use keras.layers.max_pooling2d instead.\n",
      "W0122 15:18:40.706840 140093136992000 deprecation.py:323] From /usr/local/lib/python3.5/dist-packages/tensorflow/python/ops/losses/losses_impl.py:209: to_float (from tensorflow.python.ops.math_ops) is deprecated and will be removed in a future version.\n",
      "Instructions for updating:\n",
      "Use tf.cast instead.\n",
      "W0122 15:18:40.808724 140093136992000 deprecation.py:323] From /usr/local/lib/python3.5/dist-packages/tensorflow/python/ops/math_ops.py:3066: to_int32 (from tensorflow.python.ops.math_ops) is deprecated and will be removed in a future version.\n",
      "Instructions for updating:\n",
      "Use tf.cast instead.\n",
      "Initializing graph\n",
      "W0122 15:18:41.567062 140093136992000 deprecation.py:323] From /workspace/work/benchmarks/scripts/tf_cnn_benchmarks/benchmark_cnn.py:2267: Supervisor.__init__ (from tensorflow.python.training.supervisor) is deprecated and will be removed in a future version.\n",
      "Instructions for updating:\n",
      "Please switch to tf.train.MonitoredTrainingSession\n",
      "2020-01-22 15:18:41.922314: I tensorflow/core/common_runtime/gpu/gpu_device.cc:1512] Adding visible gpu devices: 0\n",
      "2020-01-22 15:18:41.922380: I tensorflow/core/common_runtime/gpu/gpu_device.cc:984] Device interconnect StreamExecutor with strength 1 edge matrix:\n",
      "2020-01-22 15:18:41.922416: I tensorflow/core/common_runtime/gpu/gpu_device.cc:990]      0 \n",
      "2020-01-22 15:18:41.922431: I tensorflow/core/common_runtime/gpu/gpu_device.cc:1003] 0:   N \n",
      "2020-01-22 15:18:41.922519: I tensorflow/core/common_runtime/gpu/gpu_device.cc:1115] Created TensorFlow device (/job:localhost/replica:0/task:0/device:GPU:0 with 45922 MB memory) -> physical GPU (device: 0, name: Quadro RTX 8000, pci bus id: 0000:04:00.0, compute capability: 7.5)\n",
      "I0122 15:18:42.711799 140093136992000 session_manager.py:491] Running local_init_op.\n",
      "I0122 15:18:42.755964 140093136992000 session_manager.py:493] Done running local_init_op.\n",
      "Running warm up\n",
      "2020-01-22 15:18:43.886426: I tensorflow/stream_executor/dso_loader.cc:153] successfully opened CUDA library libcublas.so.10 locally\n",
      "Done warm up\n",
      "Step\tImg/sec\ttotal_loss\n",
      "1\timages/sec: 335.1 +/- 0.0 (jitter = 0.0)\t7.972\n",
      "10\timages/sec: 335.1 +/- 0.1 (jitter = 0.5)\t7.856\n",
      "20\timages/sec: 335.0 +/- 0.1 (jitter = 0.5)\t7.913\n",
      "30\timages/sec: 334.7 +/- 0.1 (jitter = 0.6)\t7.735\n",
      "40\timages/sec: 334.5 +/- 0.1 (jitter = 0.8)\t7.968\n",
      "50\timages/sec: 334.3 +/- 0.1 (jitter = 0.7)\t8.025\n",
      "60\timages/sec: 334.0 +/- 0.1 (jitter = 0.9)\t7.889\n",
      "70\timages/sec: 333.7 +/- 0.1 (jitter = 1.2)\t7.987\n",
      "80\timages/sec: 333.5 +/- 0.1 (jitter = 1.4)\t7.810\n",
      "90\timages/sec: 333.2 +/- 0.1 (jitter = 1.7)\t7.789\n",
      "100\timages/sec: 333.0 +/- 0.1 (jitter = 1.8)\t7.823\n",
      "----------------------------------------------------------------\n",
      "total images/sec: 332.94\n",
      "----------------------------------------------------------------\n"
     ]
    }
   ],
   "source": [
    "## Running the benchmark with batch size = 128 \n",
    "!python tf_cnn_benchmarks.py --num_gpus=1 --batch_size=128 --model=resnet50 --variable_update=parameter_server"
   ]
  },
  {
   "cell_type": "code",
   "execution_count": 16,
   "metadata": {},
   "outputs": [
    {
     "name": "stdout",
     "output_type": "stream",
     "text": [
      "WARNING: Logging before flag parsing goes to stderr.\n",
      "W0122 15:19:42.687496 140243862796032 deprecation.py:323] From /usr/local/lib/python3.5/dist-packages/tensorflow/python/compat/compat.py:175: disable_resource_variables (from tensorflow.python.ops.variable_scope) is deprecated and will be removed in a future version.\n",
      "Instructions for updating:\n",
      "non-resource variables are not supported in the long term\n",
      "2020-01-22 15:19:42.697388: I tensorflow/core/platform/profile_utils/cpu_utils.cc:94] CPU Frequency: 3799800000 Hz\n",
      "2020-01-22 15:19:42.698542: I tensorflow/compiler/xla/service/service.cc:161] XLA service 0x5148370 executing computations on platform Host. Devices:\n",
      "2020-01-22 15:19:42.698611: I tensorflow/compiler/xla/service/service.cc:168]   StreamExecutor device (0): <undefined>, <undefined>\n",
      "2020-01-22 15:19:42.843438: I tensorflow/stream_executor/cuda/cuda_gpu_executor.cc:998] successful NUMA node read from SysFS had negative value (-1), but there must be at least one NUMA node, so returning NUMA node zero\n",
      "2020-01-22 15:19:42.845229: I tensorflow/compiler/xla/service/service.cc:161] XLA service 0x5167410 executing computations on platform CUDA. Devices:\n",
      "2020-01-22 15:19:42.845261: I tensorflow/compiler/xla/service/service.cc:168]   StreamExecutor device (0): Quadro RTX 8000, Compute Capability 7.5\n",
      "2020-01-22 15:19:42.845381: I tensorflow/core/common_runtime/gpu/gpu_device.cc:1433] Found device 0 with properties: \n",
      "name: Quadro RTX 8000 major: 7 minor: 5 memoryClockRate(GHz): 1.77\n",
      "pciBusID: 0000:04:00.0\n",
      "totalMemory: 47.46GiB freeMemory: 47.29GiB\n",
      "2020-01-22 15:19:42.845415: I tensorflow/core/common_runtime/gpu/gpu_device.cc:1512] Adding visible gpu devices: 0\n",
      "2020-01-22 15:19:43.131105: I tensorflow/core/common_runtime/gpu/gpu_device.cc:984] Device interconnect StreamExecutor with strength 1 edge matrix:\n",
      "2020-01-22 15:19:43.131193: I tensorflow/core/common_runtime/gpu/gpu_device.cc:990]      0 \n",
      "2020-01-22 15:19:43.131216: I tensorflow/core/common_runtime/gpu/gpu_device.cc:1003] 0:   N \n",
      "2020-01-22 15:19:43.131351: I tensorflow/core/common_runtime/gpu/gpu_device.cc:1115] Created TensorFlow device (/job:localhost/replica:0/task:0/device:GPU:0 with 45922 MB memory) -> physical GPU (device: 0, name: Quadro RTX 8000, pci bus id: 0000:04:00.0, compute capability: 7.5)\n",
      "TensorFlow:  1.13\n",
      "Model:       resnet50\n",
      "Dataset:     imagenet (synthetic)\n",
      "Mode:        training\n",
      "SingleSess:  False\n",
      "Batch size:  256 global\n",
      "             256 per device\n",
      "Num batches: 100\n",
      "Num epochs:  0.02\n",
      "Devices:     ['/gpu:0']\n",
      "NUMA bind:   False\n",
      "Data format: NCHW\n",
      "Optimizer:   sgd\n",
      "Variables:   parameter_server\n",
      "==========\n",
      "Generating training model\n",
      "W0122 15:19:43.138124 140243862796032 deprecation.py:323] From /usr/local/lib/python3.5/dist-packages/tensorflow/python/framework/op_def_library.py:263: colocate_with (from tensorflow.python.framework.ops) is deprecated and will be removed in a future version.\n",
      "Instructions for updating:\n",
      "Colocations handled automatically by placer.\n",
      "W0122 15:19:43.150047 140243862796032 deprecation.py:323] From /workspace/work/benchmarks/scripts/tf_cnn_benchmarks/convnet_builder.py:134: conv2d (from tensorflow.python.layers.convolutional) is deprecated and will be removed in a future version.\n",
      "Instructions for updating:\n",
      "Use keras.layers.conv2d instead.\n",
      "W0122 15:19:43.179015 140243862796032 deprecation.py:323] From /workspace/work/benchmarks/scripts/tf_cnn_benchmarks/convnet_builder.py:266: max_pooling2d (from tensorflow.python.layers.pooling) is deprecated and will be removed in a future version.\n",
      "Instructions for updating:\n",
      "Use keras.layers.max_pooling2d instead.\n",
      "W0122 15:19:44.803192 140243862796032 deprecation.py:323] From /usr/local/lib/python3.5/dist-packages/tensorflow/python/ops/losses/losses_impl.py:209: to_float (from tensorflow.python.ops.math_ops) is deprecated and will be removed in a future version.\n",
      "Instructions for updating:\n",
      "Use tf.cast instead.\n",
      "W0122 15:19:44.910189 140243862796032 deprecation.py:323] From /usr/local/lib/python3.5/dist-packages/tensorflow/python/ops/math_ops.py:3066: to_int32 (from tensorflow.python.ops.math_ops) is deprecated and will be removed in a future version.\n",
      "Instructions for updating:\n",
      "Use tf.cast instead.\n",
      "Initializing graph\n",
      "W0122 15:19:45.740858 140243862796032 deprecation.py:323] From /workspace/work/benchmarks/scripts/tf_cnn_benchmarks/benchmark_cnn.py:2267: Supervisor.__init__ (from tensorflow.python.training.supervisor) is deprecated and will be removed in a future version.\n",
      "Instructions for updating:\n",
      "Please switch to tf.train.MonitoredTrainingSession\n",
      "2020-01-22 15:19:46.138723: I tensorflow/core/common_runtime/gpu/gpu_device.cc:1512] Adding visible gpu devices: 0\n",
      "2020-01-22 15:19:46.138817: I tensorflow/core/common_runtime/gpu/gpu_device.cc:984] Device interconnect StreamExecutor with strength 1 edge matrix:\n",
      "2020-01-22 15:19:46.138831: I tensorflow/core/common_runtime/gpu/gpu_device.cc:990]      0 \n",
      "2020-01-22 15:19:46.138844: I tensorflow/core/common_runtime/gpu/gpu_device.cc:1003] 0:   N \n",
      "2020-01-22 15:19:46.138962: I tensorflow/core/common_runtime/gpu/gpu_device.cc:1115] Created TensorFlow device (/job:localhost/replica:0/task:0/device:GPU:0 with 45922 MB memory) -> physical GPU (device: 0, name: Quadro RTX 8000, pci bus id: 0000:04:00.0, compute capability: 7.5)\n",
      "I0122 15:19:47.069641 140243862796032 session_manager.py:491] Running local_init_op.\n",
      "I0122 15:19:47.116222 140243862796032 session_manager.py:493] Done running local_init_op.\n",
      "Running warm up\n",
      "2020-01-22 15:19:48.098709: I tensorflow/stream_executor/dso_loader.cc:153] successfully opened CUDA library libcublas.so.10 locally\n",
      "Done warm up\n",
      "Step\tImg/sec\ttotal_loss\n",
      "1\timages/sec: 332.6 +/- 0.0 (jitter = 0.0)\t7.932\n",
      "10\timages/sec: 332.5 +/- 0.1 (jitter = 0.3)\t7.892\n",
      "20\timages/sec: 332.1 +/- 0.1 (jitter = 0.5)\t7.791\n",
      "30\timages/sec: 331.8 +/- 0.1 (jitter = 1.0)\t7.859\n",
      "40\timages/sec: 331.6 +/- 0.1 (jitter = 0.8)\t7.989\n",
      "50\timages/sec: 331.3 +/- 0.1 (jitter = 0.8)\t7.852\n",
      "60\timages/sec: 331.1 +/- 0.1 (jitter = 1.0)\t7.903\n",
      "70\timages/sec: 331.0 +/- 0.1 (jitter = 1.0)\t7.851\n",
      "80\timages/sec: 330.8 +/- 0.1 (jitter = 0.9)\t7.886\n",
      "90\timages/sec: 330.7 +/- 0.1 (jitter = 0.9)\t7.877\n",
      "100\timages/sec: 330.6 +/- 0.1 (jitter = 0.9)\t7.829\n",
      "----------------------------------------------------------------\n",
      "total images/sec: 330.56\n",
      "----------------------------------------------------------------\n"
     ]
    }
   ],
   "source": [
    "## Running the benchmark with batch size = 256 \n",
    "!python tf_cnn_benchmarks.py --num_gpus=1 --batch_size=256 --model=resnet50 --variable_update=parameter_server"
   ]
  },
  {
   "cell_type": "code",
   "execution_count": null,
   "metadata": {},
   "outputs": [],
   "source": [
    "## To run the bench in multiple GPUs systems just change the parameter --num_gpus=x where (x) is the amount of GPUs in your system "
   ]
  },
  {
   "cell_type": "markdown",
   "metadata": {},
   "source": [
    "## ======= RTX 2080 Ti ========="
   ]
  },
  {
   "cell_type": "code",
   "execution_count": null,
   "metadata": {},
   "outputs": [],
   "source": [
    "## Running the benchmark with batch size = 64 \n",
    "!python tf_cnn_benchmarks.py --num_gpus=1 --batch_size=64 --model=resnet50 --variable_update=parameter_server"
   ]
  },
  {
   "cell_type": "code",
   "execution_count": null,
   "metadata": {},
   "outputs": [],
   "source": [
    "## Running the benchmark with batch size = 128 \n",
    "!python tf_cnn_benchmarks.py --num_gpus=1 --batch_size=128 --model=resnet50 --variable_update=parameter_server"
   ]
  },
  {
   "cell_type": "code",
   "execution_count": null,
   "metadata": {},
   "outputs": [],
   "source": [
    "## Running the benchmark with batch size = 256 \n",
    "!python tf_cnn_benchmarks.py --num_gpus=1 --batch_size=256 --model=resnet50 --variable_update=parameter_server"
   ]
  }
 ],
 "metadata": {
  "kernelspec": {
   "display_name": "Python 3",
   "language": "python",
   "name": "python3"
  },
  "language_info": {
   "codemirror_mode": {
    "name": "ipython",
    "version": 3
   },
   "file_extension": ".py",
   "mimetype": "text/x-python",
   "name": "python",
   "nbconvert_exporter": "python",
   "pygments_lexer": "ipython3",
   "version": "3.5.2"
  }
 },
 "nbformat": 4,
 "nbformat_minor": 2
}
